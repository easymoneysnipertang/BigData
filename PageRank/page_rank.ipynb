{
 "cells": [
  {
   "cell_type": "markdown",
   "metadata": {},
   "source": [
    "# PageRank"
   ]
  },
  {
   "cell_type": "markdown",
   "metadata": {},
   "source": [
    "## 读取数据"
   ]
  },
  {
   "cell_type": "code",
   "execution_count": 1,
   "metadata": {},
   "outputs": [],
   "source": [
    "import numpy as np\n",
    "\n",
    "# 读数据\n",
    "def read_data():\n",
    "    file = open('Data.txt', 'r')\n",
    "    graph=[] \n",
    "    node_set=set()\n",
    "    for line in file:\n",
    "        data=line.split()\n",
    "        edge=(int(data[0]),int(data[1]))  # 以tuple存储两个点/边\n",
    "        node_set.add(edge[0])\n",
    "        node_set.add(edge[1])\n",
    "        graph.append(edge)\n",
    "\n",
    "    node_num=len(node_set) # 点的个数\n",
    "    return graph, node_num, node_set\n"
   ]
  },
  {
   "cell_type": "code",
   "execution_count": 2,
   "metadata": {},
   "outputs": [
    {
     "name": "stdout",
     "output_type": "stream",
     "text": [
      "点的序号连续\n"
     ]
    }
   ],
   "source": [
    "G, node_num, node_set = read_data()\n",
    "\n",
    "# 验证点的序号是否为 1-node_num\n",
    "for i in range(1,node_num+1):\n",
    "    if i not in node_set:\n",
    "        print('点的序号不连续')\n",
    "        break\n",
    "print('点的序号连续')"
   ]
  },
  {
   "cell_type": "markdown",
   "metadata": {},
   "source": [
    "## 基础版本"
   ]
  },
  {
   "cell_type": "code",
   "execution_count": 3,
   "metadata": {},
   "outputs": [],
   "source": [
    "# 初始化邻接矩阵\n",
    "def get_stochastic_matrix(G, node_num):\n",
    "\tmatrix = np.zeros((node_num,node_num))\n",
    "\t# 统计邻接矩阵\n",
    "\tfor edge in G:\n",
    "\t\tmatrix[edge[1]-1][edge[0]-1] = 1  # 入度0->1\n",
    "\t# 计算\n",
    "\tfor j in range(node_num):\n",
    "\t\tsum_of_col = sum(matrix[:,j])  # 出度之和(d)\n",
    "\t\t# 如果发现dead-end，将其转为随机跳转\n",
    "\t\tif sum_of_col == 0:\n",
    "\t\t\tmatrix[:,j] = 1/node_num\n",
    "\t\t\tcontinue\n",
    "\t\tfor i in range(node_num):  # 1/d\n",
    "\t\t\tmatrix[i,j] /= sum_of_col\n",
    "\treturn matrix\n",
    "\n",
    "# 迭代\n",
    "def power_interation(matrix, beta, node_num):\n",
    "\t# 用 1/node_num 初始化rank vector\n",
    "\tscores = np.ones((node_num))/node_num\n",
    "\tnew_scores = np.zeros((node_num))\n",
    "\tinteration_num = 0  # 迭代次数\n",
    "\te = node_num # 两次迭代之间的误差\n",
    "\twhile e > 1e-6:\n",
    "\t\tnew_scores = beta*np.dot(matrix,scores)+(1-beta)/node_num  # β随机游走\n",
    "\t\te = sum(abs(new_scores-scores))\n",
    "\t\tscores = np.copy(new_scores)\n",
    "\t\tinteration_num += 1\n",
    "\treturn scores, interation_num"
   ]
  },
  {
   "cell_type": "code",
   "execution_count": 4,
   "metadata": {},
   "outputs": [
    {
     "name": "stdout",
     "output_type": "stream",
     "text": [
      "PageRank: [5.39597744e-04 9.59161392e-05 1.12610782e-04 ... 9.50066677e-05\n",
      " 8.35763251e-05 7.36008357e-05]\n",
      "迭代次数: 53\n"
     ]
    }
   ],
   "source": [
    "beta = 0.85  # 按照链接跳转的概率\n",
    "matrix = get_stochastic_matrix(G, node_num)\n",
    "scores, interation_num = power_interation(matrix, beta, node_num)\n",
    "print('PageRank:', scores)\n",
    "print('迭代次数:', interation_num)"
   ]
  },
  {
   "cell_type": "code",
   "execution_count": 5,
   "metadata": {},
   "outputs": [
    {
     "name": "stdout",
     "output_type": "stream",
     "text": [
      "0.9999999999999979\n",
      "Top 100: [0.00087185 0.00085453 0.00084961 0.0008359  0.00083059 0.00082064\n",
      " 0.00081788 0.00081033 0.00080999 0.000806   0.00080509 0.00080316\n",
      " 0.00080222 0.00079232 0.00078217 0.0007812  0.00077737 0.00077438\n",
      " 0.00076882 0.00076079 0.00075903 0.00075754 0.00075585 0.00075166\n",
      " 0.00074796 0.0007474  0.00074577 0.00074494 0.00074458 0.00074116\n",
      " 0.0007401  0.00073804 0.00073637 0.00073385 0.00073313 0.00073267\n",
      " 0.00073254 0.00073134 0.00073048 0.00072626 0.00072583 0.00072582\n",
      " 0.00072123 0.00071736 0.00071543 0.00071399 0.00071396 0.00071301\n",
      " 0.00071236 0.00071202 0.00071025 0.00070964 0.00070934 0.00070916\n",
      " 0.00070835 0.00070823 0.00070495 0.00070113 0.00069982 0.00069907\n",
      " 0.00069859 0.00069789 0.00069758 0.0006968  0.00069651 0.00069614\n",
      " 0.00069586 0.00069517 0.00069411 0.00069328 0.00069273 0.00069209\n",
      " 0.00069156 0.00069146 0.00069116 0.00069044 0.00068669 0.00068636\n",
      " 0.0006859  0.00068532 0.00068364 0.00068344 0.00068323 0.00068301\n",
      " 0.00068281 0.00068277 0.00068233 0.00068196 0.0006802  0.0006796\n",
      " 0.00067762 0.00067689 0.00067561 0.00067551 0.00067392 0.00067344\n",
      " 0.0006734  0.00067258 0.00067153 0.00067076]\n",
      "Top 100的点: [2730 7102 1010  368 1907 7453 4583 7420 1847 5369 3164 7446 3947 2794\n",
      " 3215 5346 7223  630 4417 4955 3208 2902 5671 5833 5553 8096 3204  758\n",
      " 6301 5769 8194 4957 8060 7938 5584 6568 1430 7250 3185 2737 3751  150\n",
      " 5099 2944 7872 2639 5074 1034  229 6648 4222 7406 2464 3578  930 6777\n",
      " 2484 4944 1197 3221 2041 7579 6787 6530 8112 6005 6190 5655  251 3951\n",
      " 8018  233 2589 5996  482  972 7499 7442 1173 2369 6315 5129 7784 5998\n",
      " 4692 4255 6692 4832 5275 5376 2232 6928  260 1677 6847 6883 7702 1798\n",
      " 4681 2664]\n"
     ]
    }
   ],
   "source": [
    "print(sum(scores))\n",
    "# 只取最大的前100个\n",
    "sorted_indices = np.argsort(scores)[::-1][:100]\n",
    "sorted_scores = scores[sorted_indices]\n",
    "print('Top 100:', sorted_scores)\n",
    "print('Top 100的点:', sorted_indices+1)  # 点的序号从1开始"
   ]
  },
  {
   "cell_type": "code",
   "execution_count": 6,
   "metadata": {},
   "outputs": [],
   "source": [
    "with open('result.txt', 'w') as file:\n",
    "    # 遍历列表的索引和值\n",
    "    for i in range(len(sorted_indices)):\n",
    "        # 写入格式化的字符串到文件\n",
    "        file.write(str(sorted_indices[i]+1) + ' ' + str(sorted_scores[i]) + '\\n')"
   ]
  },
  {
   "cell_type": "markdown",
   "metadata": {},
   "source": [
    "## 稀疏矩阵优化"
   ]
  },
  {
   "cell_type": "code",
   "execution_count": 7,
   "metadata": {},
   "outputs": [],
   "source": [
    "# 初始化稀疏矩阵\n",
    "def get_sparse_matrix(G, node_num):\n",
    "    sparse_matrix = [[] for _ in range(node_num)]\n",
    "    for edge in G:\n",
    "        sparse_matrix[edge[0]-1].append(edge[1]-1)  # 出度0->1\n",
    "    return sparse_matrix\n",
    "\n",
    "def power_interation_sparse(sparse_matrix, beta, node_num):\n",
    "    # 用 1/node_num 初始化分数 \n",
    "    scores = np.ones((node_num))/node_num  # 1/N\n",
    "    e = node_num  # 两次迭代之间的误差\n",
    "    interation_num = 0  # 迭代次数\n",
    "    while e > 1e-6:\n",
    "        new_scores = (1-beta)*np.ones((node_num))/node_num\n",
    "        for i in range(node_num):\n",
    "            # 如果是dead-end\n",
    "            if len(sparse_matrix[i]) == 0:  # 没有出度，renormalize？\n",
    "                new_scores += beta*scores[i]/node_num\n",
    "                continue\n",
    "            for j in sparse_matrix[i]:  # i->j\n",
    "                new_scores[j] += beta*scores[i]/len(sparse_matrix[i])\n",
    "        e = sum(abs(new_scores-scores))\n",
    "        scores = np.copy(new_scores)\n",
    "        interation_num += 1\n",
    "    return scores, interation_num\n",
    "\n",
    "def power_interation_sparse_book(sparse_matrix, beta, node_num):\n",
    "    # 用 1/node_num 初始化分数 \n",
    "    scores = np.ones((node_num))/node_num  # 1/N\n",
    "    e = node_num  # 两次迭代之间的误差\n",
    "    interation_num = 0  # 迭代次数\n",
    "    while e > 1e-6:\n",
    "        new_scores = np.zeros((node_num))\n",
    "        for i in range(node_num):\n",
    "            for j in sparse_matrix[i]:  # i->j\n",
    "                new_scores[j] += beta*scores[i]/len(sparse_matrix[i])\n",
    "        # re-insert the leaked PageRank\n",
    "        new_scores += (1-sum(new_scores))/node_num\n",
    "        e = sum(abs(new_scores-scores))\n",
    "        scores = np.copy(new_scores)\n",
    "        interation_num += 1\n",
    "    return scores, interation_num"
   ]
  },
  {
   "cell_type": "code",
   "execution_count": 8,
   "metadata": {},
   "outputs": [
    {
     "name": "stdout",
     "output_type": "stream",
     "text": [
      "迭代次数: 53\n"
     ]
    }
   ],
   "source": [
    "beta = 0.85\n",
    "sparse_matrix = get_sparse_matrix(G, node_num)\n",
    "#scores , interation_num = power_interation_sparse(get_sparse_matrix(G, node_num), beta, node_num)\n",
    "scores , interation_num = power_interation_sparse_book(get_sparse_matrix(G, node_num), beta, node_num)\n",
    "\n",
    "print('迭代次数:', interation_num)"
   ]
  },
  {
   "cell_type": "code",
   "execution_count": 9,
   "metadata": {},
   "outputs": [
    {
     "name": "stdout",
     "output_type": "stream",
     "text": [
      "0.9999999999999969\n",
      "Top 100: [0.00087185 0.00085453 0.00084961 0.0008359  0.00083059 0.00082064\n",
      " 0.00081788 0.00081033 0.00080999 0.000806   0.00080509 0.00080316\n",
      " 0.00080222 0.00079232 0.00078217 0.0007812  0.00077737 0.00077438\n",
      " 0.00076882 0.00076079 0.00075903 0.00075754 0.00075585 0.00075166\n",
      " 0.00074796 0.0007474  0.00074577 0.00074494 0.00074458 0.00074116\n",
      " 0.0007401  0.00073804 0.00073637 0.00073385 0.00073313 0.00073267\n",
      " 0.00073254 0.00073134 0.00073048 0.00072626 0.00072583 0.00072582\n",
      " 0.00072123 0.00071736 0.00071543 0.00071399 0.00071396 0.00071301\n",
      " 0.00071236 0.00071202 0.00071025 0.00070964 0.00070934 0.00070916\n",
      " 0.00070835 0.00070823 0.00070495 0.00070113 0.00069982 0.00069907\n",
      " 0.00069859 0.00069789 0.00069758 0.0006968  0.00069651 0.00069614\n",
      " 0.00069586 0.00069517 0.00069411 0.00069328 0.00069273 0.00069209\n",
      " 0.00069156 0.00069146 0.00069116 0.00069044 0.00068669 0.00068636\n",
      " 0.0006859  0.00068532 0.00068364 0.00068344 0.00068323 0.00068301\n",
      " 0.00068281 0.00068277 0.00068233 0.00068196 0.0006802  0.0006796\n",
      " 0.00067762 0.00067689 0.00067561 0.00067551 0.00067392 0.00067344\n",
      " 0.0006734  0.00067258 0.00067153 0.00067076]\n",
      "Top 100的点: [2730 7102 1010  368 1907 7453 4583 7420 1847 5369 3164 7446 3947 2794\n",
      " 3215 5346 7223  630 4417 4955 3208 2902 5671 5833 5553 8096 3204  758\n",
      " 6301 5769 8194 4957 8060 7938 5584 6568 1430 7250 3185 2737 3751  150\n",
      " 5099 2944 7872 2639 5074 1034  229 6648 4222 7406 2464 3578  930 6777\n",
      " 2484 4944 1197 3221 2041 7579 6787 6530 8112 6005 6190 5655  251 3951\n",
      " 8018  233 2589 5996  482  972 7499 7442 1173 2369 6315 5129 7784 5998\n",
      " 4692 4255 6692 4832 5275 5376 2232 6928  260 1677 6847 6883 7702 1798\n",
      " 4681 2664]\n"
     ]
    }
   ],
   "source": [
    "print(sum(scores))\n",
    "# 只取最大的前100个\n",
    "sorted_indices = np.argsort(scores)[::-1][:100]\n",
    "sorted_scores = scores[sorted_indices]\n",
    "print('Top 100:', sorted_scores)\n",
    "print('Top 100的点:', sorted_indices+1)  # 点的序号从1开始"
   ]
  },
  {
   "cell_type": "code",
   "execution_count": 10,
   "metadata": {},
   "outputs": [],
   "source": [
    "with open('result_sparse.txt', 'w') as file:\n",
    "    # 遍历列表的索引和值\n",
    "    for i in range(len(sorted_indices)):\n",
    "        # 写入格式化的字符串到文件\n",
    "        file.write(str(sorted_indices[i]+1) + ' ' + str(sorted_scores[i]) + '\\n')"
   ]
  },
  {
   "cell_type": "markdown",
   "metadata": {},
   "source": [
    "# 分块优化"
   ]
  },
  {
   "cell_type": "code",
   "execution_count": null,
   "metadata": {},
   "outputs": [],
   "source": [
    "# 初始化稀疏矩阵\n",
    "sparse_matrix = [[] for _ in range(node_num)]\n",
    "\n",
    "for edge in G:\n",
    "    sparse_matrix[edge[0]-1].append(edge[1]-1)\n",
    "\n",
    "# 用 1/node_num 初始化分数 \n",
    "scores=np.ones((node_num))/node_num\n",
    "\n",
    "e=1 # 两次迭代之间的误差\n",
    "\n",
    "block_size=2000 # 每次迭代的块大小\n",
    "\n",
    "block_num=node_num//block_size\n",
    "\n",
    "remainder=node_num%block_size\n",
    "\n",
    "\n",
    "\n",
    "new_scores=np.zeros((node_num))\n",
    "\n",
    "while e>1e-5:\n",
    "    # 每次处理一块\n",
    "    e=0\n",
    "    for i in range(block_num):\n",
    "        # 初始化该块\n",
    "        new_scores[i*block_size:(i+1)*block_size]=(1-beta)/node_num\n",
    "        # 遍历稀疏矩阵\n",
    "        for j in range(node_num):\n",
    "            # 遇到dead-end\n",
    "            if len(sparse_matrix[j])==0:\n",
    "                new_scores[i*block_size:(i+1)*block_size]+=beta*scores[j]/node_num\n",
    "                continue\n",
    "            \n",
    "            for m in sparse_matrix[j]:\n",
    "                if m>=i*block_size and m<(i+1)*block_size:\n",
    "                    new_scores[m]+=beta*scores[j]/len(sparse_matrix[j])\n",
    "        e+=sum(abs(new_scores[i*block_size:(i+1)*block_size]-scores[i*block_size:(i+1)*block_size]))\n",
    "    \n",
    "    \n",
    "    \n",
    "    # 处理剩余部分\n",
    "    new_scores[block_num*block_size:]=(1-beta)/node_num\n",
    "\n",
    "    for j in range(node_num):\n",
    "        if len(sparse_matrix[j])==0:\n",
    "            new_scores[block_num*block_size:]+=beta*scores[j]/node_num\n",
    "            continue\n",
    "        for m in sparse_matrix[j]:\n",
    "            if m>=block_num*block_size:\n",
    "                new_scores[m]+=beta*scores[j]/len(sparse_matrix[j])\n",
    "    e+=sum(abs(new_scores[block_num*block_size:]-scores[block_num*block_size:]))\n",
    "    \n",
    "    scores=np.copy(new_scores)\n",
    "\n",
    "\n",
    "print(scores)"
   ]
  },
  {
   "cell_type": "code",
   "execution_count": null,
   "metadata": {},
   "outputs": [],
   "source": [
    "print(sum(scores))\n",
    "print(node_num)\n",
    "print(sum(scores))\n",
    "sorted_indices = (np.argsort(scores)+1)[::-1]\n",
    "sorted_scores = (np.sort(scores))[::-1]\n",
    "print('PageRank值从小到大排序：',sorted_indices)\n",
    "print('PageRank值从小到大排序：',sorted_scores)"
   ]
  },
  {
   "cell_type": "code",
   "execution_count": null,
   "metadata": {},
   "outputs": [],
   "source": [
    "ls=np.zeros(10)\n",
    "ls[2:4]+=2\n",
    "print(ls)"
   ]
  },
  {
   "cell_type": "markdown",
   "metadata": {},
   "source": [
    "# Block-Stripe优化"
   ]
  },
  {
   "cell_type": "code",
   "execution_count": null,
   "metadata": {},
   "outputs": [],
   "source": [
    "block_size=2000 # 每次迭代的块大小\n",
    "\n",
    "block_num=node_num//block_size\n",
    "\n",
    "remainder=node_num%block_size\n",
    "\n",
    "if remainder!=0:\n",
    "    block_num+=1\n",
    "\n",
    "stripes = [ {} for _ in range(block_num)]\n",
    "\n",
    "length=[0 for _ in range(node_num)]\n",
    "\n",
    "# 初始化稀疏矩阵\n",
    "for edge in G:\n",
    "    to_node=edge[1]-1\n",
    "    from_node=edge[0]-1\n",
    "    index=to_node//block_size\n",
    "    if from_node not in stripes[index]:\n",
    "        stripes[index][from_node]=[]\n",
    "    length[from_node]+=1\n",
    "\n",
    "# 处理dead-end\n",
    "for i in range(node_num):\n",
    "    is_de=True\n",
    "    for j in range(block_num):\n",
    "        if i in stripes[j]:\n",
    "            is_de=False\n",
    "            break\n",
    "    if is_de:\n",
    "        length[i]=node_num\n",
    "        for j in range(block_num):\n",
    "            stripes[j][i]=[j*block_size+m for m in range(block_size)]\n",
    "\n",
    "scores=np.ones((node_num))/node_num\n",
    "\n",
    "new_scores=np.zeros((node_num))\n",
    "e=1\n",
    "beta=0.8\n",
    "while e>1e-5:\n",
    "    e=0;\n",
    "    for i in range(block_num):\n",
    "        new_scores[i*block_size:(i+1)*block_size]=(1-beta)/node_num\n",
    "        for from_node in stripes[i]:\n",
    "            for to_node in stripes[i][from_node]:\n",
    "                new_scores[to_node]+=beta*scores[from_node]/length[from_node]\n",
    "        e+=sum(abs(new_scores[i*block_size:(i+1)*block_size]-scores[i*block_size:(i+1)*block_size]))\n",
    "    \n",
    "    # 处理剩余部分\n",
    "    if remainder!=0:\n",
    "        new_scores[block_num*block_size:]=(1-beta)/node_num\n",
    "        for from_node in stripes[block_num-1]:\n",
    "            for to_node in stripes[block_num-1][from_node]:\n",
    "                new_scores[to_node]+=beta*scores[from_node]/length[from_node]\n",
    "        e+=sum(abs(new_scores[block_num*block_size:]-scores[block_num*block_size:]))\n",
    "    scores=np.copy(new_scores)\n",
    "\n",
    "print(scores)"
   ]
  },
  {
   "cell_type": "code",
   "execution_count": null,
   "metadata": {},
   "outputs": [],
   "source": [
    "print(node_num)"
   ]
  }
 ],
 "metadata": {
  "kernelspec": {
   "display_name": "ML",
   "language": "python",
   "name": "python3"
  },
  "language_info": {
   "codemirror_mode": {
    "name": "ipython",
    "version": 3
   },
   "file_extension": ".py",
   "mimetype": "text/x-python",
   "name": "python",
   "nbconvert_exporter": "python",
   "pygments_lexer": "ipython3",
   "version": "3.7.9"
  }
 },
 "nbformat": 4,
 "nbformat_minor": 2
}
