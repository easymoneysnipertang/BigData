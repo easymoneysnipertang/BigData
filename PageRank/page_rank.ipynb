{
 "cells": [
  {
   "cell_type": "markdown",
   "metadata": {},
   "source": [
    "# PageRank"
   ]
  },
  {
   "cell_type": "markdown",
   "metadata": {},
   "source": [
    "## 读取数据"
   ]
  },
  {
   "cell_type": "code",
   "execution_count": 1,
   "metadata": {},
   "outputs": [],
   "source": [
    "import numpy as np\n",
    "\n",
    "# 读数据\n",
    "def read_data():\n",
    "    file = open('Data.txt', 'r')\n",
    "    graph=[] \n",
    "    node_set=set()\n",
    "    for line in file:\n",
    "        data=line.split()\n",
    "        edge=(int(data[0]),int(data[1]))  # 以tuple存储两个点/边\n",
    "        node_set.add(edge[0])\n",
    "        node_set.add(edge[1])\n",
    "        graph.append(edge)\n",
    "\n",
    "    node_num=len(node_set) # 点的个数\n",
    "    return graph, node_num, node_set"
   ]
  },
  {
   "cell_type": "code",
   "execution_count": 21,
   "metadata": {},
   "outputs": [
    {
     "name": "stdout",
     "output_type": "stream",
     "text": [
      "点的个数: 8297\n",
      "点的序号连续\n"
     ]
    }
   ],
   "source": [
    "G, node_num, node_set = read_data()\n",
    "print('点的个数:',node_num)\n",
    "# 验证点的序号是否为 1-node_num\n",
    "for i in range(1,node_num+1):\n",
    "    if i not in node_set:\n",
    "        print('点的序号不连续')\n",
    "        break\n",
    "print('点的序号连续')"
   ]
  },
  {
   "cell_type": "markdown",
   "metadata": {},
   "source": [
    "## test"
   ]
  },
  {
   "cell_type": "code",
   "execution_count": 22,
   "metadata": {},
   "outputs": [
    {
     "name": "stdout",
     "output_type": "stream",
     "text": [
      "8297\n"
     ]
    }
   ],
   "source": [
    "import networkx as nx\n",
    "\n",
    "testG = nx.Graph()\n",
    "for edge in G:\n",
    "    testG.add_edge(edge[0], edge[1])\n",
    "print(testG.number_of_nodes())\n"
   ]
  },
  {
   "cell_type": "code",
   "execution_count": 24,
   "metadata": {},
   "outputs": [
    {
     "name": "stdout",
     "output_type": "stream",
     "text": [
      "Node: 8078, PageRank: 0.0002176009432602875\n",
      "Node: 853, PageRank: 0.00021594446612430528\n",
      "Node: 3396, PageRank: 0.00021517393230798196\n",
      "Node: 2879, PageRank: 0.0002120640899849291\n",
      "Node: 2006, PageRank: 0.0002077522854063683\n",
      "Node: 7977, PageRank: 0.0002077051471382337\n",
      "Node: 2061, PageRank: 0.00020629454669300536\n",
      "Node: 3742, PageRank: 0.0002051858441447194\n",
      "Node: 4144, PageRank: 0.0002051500417506352\n",
      "Node: 5663, PageRank: 0.00020459324607534308\n",
      "Node: 7540, PageRank: 0.00020456606667758846\n",
      "Node: 2057, PageRank: 0.000204085379955003\n",
      "Node: 1657, PageRank: 0.00020401155260374356\n",
      "Node: 3314, PageRank: 0.00020280806849110622\n",
      "Node: 4358, PageRank: 0.00020279765741826837\n",
      "Node: 7887, PageRank: 0.0002027610553192458\n",
      "Node: 4682, PageRank: 0.0002027240565580038\n",
      "Node: 2013, PageRank: 0.00020167586843281458\n",
      "Node: 6211, PageRank: 0.0002014662703749108\n",
      "Node: 2148, PageRank: 0.0002000060255840566\n",
      "Node: 6083, PageRank: 0.00019990441180653973\n",
      "Node: 1445, PageRank: 0.00019959395094739025\n",
      "Node: 7997, PageRank: 0.00019954644951029679\n",
      "Node: 344, PageRank: 0.0001995093893450144\n",
      "Node: 3847, PageRank: 0.00019944874811899434\n",
      "Node: 600, PageRank: 0.00019931179074317252\n",
      "Node: 1828, PageRank: 0.00019912994690755728\n",
      "Node: 7741, PageRank: 0.00019900693403995177\n",
      "Node: 7330, PageRank: 0.00019835351242194197\n",
      "Node: 824, PageRank: 0.0001982984526291982\n",
      "Node: 4109, PageRank: 0.00019828049950035962\n",
      "Node: 7073, PageRank: 0.00019827081628365654\n",
      "Node: 1752, PageRank: 0.00019783965905721524\n",
      "Node: 5946, PageRank: 0.00019759745763847297\n",
      "Node: 4856, PageRank: 0.0001974358272337948\n",
      "Node: 3633, PageRank: 0.00019740787492282438\n",
      "Node: 7605, PageRank: 0.00019682145826972996\n",
      "Node: 7730, PageRank: 0.00019625575958564964\n",
      "Node: 5379, PageRank: 0.00019611178730282808\n",
      "Node: 7347, PageRank: 0.00019603651334761785\n",
      "Node: 3705, PageRank: 0.00019602337449848667\n",
      "Node: 6773, PageRank: 0.00019578388776864356\n",
      "Node: 884, PageRank: 0.00019561352580329343\n",
      "Node: 1811, PageRank: 0.0001955000386555898\n",
      "Node: 3924, PageRank: 0.00019547506783007762\n",
      "Node: 34, PageRank: 0.00019520056875220202\n",
      "Node: 6574, PageRank: 0.00019502159771972246\n",
      "Node: 7465, PageRank: 0.00019500162456251755\n",
      "Node: 2527, PageRank: 0.00019496717968600787\n",
      "Node: 5637, PageRank: 0.00019482769393075903\n",
      "Node: 550, PageRank: 0.00019456226967550302\n",
      "Node: 1653, PageRank: 0.00019413118880209142\n",
      "Node: 1703, PageRank: 0.00019389236481998383\n",
      "Node: 1313, PageRank: 0.00019380267672617266\n",
      "Node: 4242, PageRank: 0.00019373626978333856\n",
      "Node: 7849, PageRank: 0.00019355622510852072\n",
      "Node: 4896, PageRank: 0.000193358156047628\n",
      "Node: 4672, PageRank: 0.00019290785225576122\n",
      "Node: 165, PageRank: 0.000192545496706587\n",
      "Node: 2723, PageRank: 0.00019246262424763778\n",
      "Node: 8155, PageRank: 0.00019226250219554807\n",
      "Node: 6284, PageRank: 0.0001922234221297838\n",
      "Node: 4030, PageRank: 0.0001921663437694318\n",
      "Node: 7894, PageRank: 0.00019184544672468646\n",
      "Node: 3031, PageRank: 0.0001917757339917637\n",
      "Node: 1089, PageRank: 0.00019174464910280245\n",
      "Node: 8210, PageRank: 0.00019154917805118375\n",
      "Node: 7310, PageRank: 0.00019153255038585596\n",
      "Node: 6076, PageRank: 0.00019138195969281983\n",
      "Node: 8054, PageRank: 0.0001913609068616587\n",
      "Node: 2868, PageRank: 0.0001913427779568395\n",
      "Node: 5569, PageRank: 0.0001912613543215972\n",
      "Node: 4858, PageRank: 0.00019125058333592854\n",
      "Node: 1574, PageRank: 0.00019124194738840179\n",
      "Node: 1483, PageRank: 0.00019101952062813434\n",
      "Node: 1895, PageRank: 0.00019061497796479254\n",
      "Node: 2594, PageRank: 0.00019018468370342561\n",
      "Node: 5351, PageRank: 0.0001901588878105454\n",
      "Node: 790, PageRank: 0.00019011807643710393\n",
      "Node: 1756, PageRank: 0.00019007321043244924\n",
      "Node: 7429, PageRank: 0.00018990199143783932\n",
      "Node: 2269, PageRank: 0.00018977288009027477\n",
      "Node: 5388, PageRank: 0.00018974708542750067\n",
      "Node: 2448, PageRank: 0.00018973717489770232\n",
      "Node: 7228, PageRank: 0.0001896902538852375\n",
      "Node: 144, PageRank: 0.0001895666061976871\n",
      "Node: 2957, PageRank: 0.00018944606740328317\n",
      "Node: 5524, PageRank: 0.00018934796121041915\n",
      "Node: 4825, PageRank: 0.00018932967179323884\n",
      "Node: 3836, PageRank: 0.00018913097537497008\n",
      "Node: 4536, PageRank: 0.00018913058078391586\n",
      "Node: 8057, PageRank: 0.00018912263443465621\n",
      "Node: 5282, PageRank: 0.0001890853891469998\n",
      "Node: 5300, PageRank: 0.0001890272782848391\n",
      "Node: 5215, PageRank: 0.00018901563785229342\n",
      "Node: 3242, PageRank: 0.00018896979814163963\n",
      "Node: 2443, PageRank: 0.00018878596192462886\n",
      "Node: 2051, PageRank: 0.00018850754342339697\n",
      "Node: 279, PageRank: 0.00018839930506220844\n",
      "Node: 5239, PageRank: 0.00018834011434130834\n",
      "所有节点pagerank值之和: 0.9999999999999968\n"
     ]
    }
   ],
   "source": [
    "pr = nx.pagerank(testG, alpha=0.85)\n",
    "# 对 pagerank 值进行排序\n",
    "sorted_pr = sorted(pr.items(), key=lambda x: x[1], reverse=True)\n",
    "# 打印前100个节点\n",
    "for node, pr_value in sorted_pr[:100]:\n",
    "    print(f\"Node: {node}, PageRank: {pr_value}\")\n",
    "# 计算所有节点pagerank值之和\n",
    "pr_sum = sum(pr.values())\n",
    "print(f\"所有节点pagerank值之和: {pr_sum}\")\n"
   ]
  },
  {
   "cell_type": "markdown",
   "metadata": {},
   "source": [
    "## 基础版本"
   ]
  },
  {
   "cell_type": "code",
   "execution_count": 25,
   "metadata": {},
   "outputs": [],
   "source": [
    "# 初始化邻接矩阵\n",
    "def get_stochastic_matrix(G, node_num):\n",
    "\tmatrix = np.zeros((node_num,node_num))\n",
    "\t# 统计邻接矩阵\n",
    "\tfor edge in G:\n",
    "\t\tmatrix[edge[1]-1][edge[0]-1] = 1  # 入度0->1\n",
    "\t# 计算\n",
    "\tfor j in range(node_num):\n",
    "\t\tsum_of_col = sum(matrix[:,j])  # 出度之和(d)\n",
    "\t\t# 如果发现dead-end，将其转为随机跳转\n",
    "\t\tif sum_of_col == 0:\n",
    "\t\t\tmatrix[:,j] = 1/node_num\n",
    "\t\t\tcontinue\n",
    "\t\tfor i in range(node_num):  # 1/d\n",
    "\t\t\tmatrix[i,j] /= sum_of_col\n",
    "\treturn matrix\n",
    "\n",
    "# 迭代\n",
    "def power_interation(matrix, beta, node_num):\n",
    "\t# 用 1/node_num 初始化rank vector\n",
    "\tscores = np.ones((node_num))/node_num\n",
    "\tnew_scores = np.zeros((node_num))\n",
    "\tinteration_num = 0  # 迭代次数\n",
    "\te = node_num # 两次迭代之间的误差\n",
    "\twhile e > 1e-6:\n",
    "\t\tnew_scores = beta*np.dot(matrix,scores)+(1-beta)/node_num  # β随机游走\n",
    "\t\te = sum(abs(new_scores-scores))\n",
    "\t\tscores = np.copy(new_scores)\n",
    "\t\tinteration_num += 1\n",
    "\treturn scores, interation_num"
   ]
  },
  {
   "cell_type": "code",
   "execution_count": 33,
   "metadata": {},
   "outputs": [
    {
     "name": "stdout",
     "output_type": "stream",
     "text": [
      "PageRank: [5.39597744e-04 9.59161392e-05 1.12610782e-04 ... 9.50066677e-05\n",
      " 8.35763251e-05 7.36008357e-05]\n",
      "迭代次数: 53\n"
     ]
    }
   ],
   "source": [
    "beta = 0.85  # 按照链接跳转的概率\n",
    "matrix = get_stochastic_matrix(G, node_num)\n",
    "scores, interation_num = power_interation(matrix, beta, node_num)\n",
    "print('PageRank:', scores)\n",
    "print('迭代次数:', interation_num)"
   ]
  },
  {
   "cell_type": "code",
   "execution_count": 34,
   "metadata": {},
   "outputs": [
    {
     "name": "stdout",
     "output_type": "stream",
     "text": [
      "0.9999999999999979\n",
      "Top 100: [0.00087185 0.00085453 0.00084961 0.0008359  0.00083059 0.00082064\n",
      " 0.00081788 0.00081033 0.00080999 0.000806   0.00080509 0.00080316\n",
      " 0.00080222 0.00079232 0.00078217 0.0007812  0.00077737 0.00077438\n",
      " 0.00076882 0.00076079 0.00075903 0.00075754 0.00075585 0.00075166\n",
      " 0.00074796 0.0007474  0.00074577 0.00074494 0.00074458 0.00074116\n",
      " 0.0007401  0.00073804 0.00073637 0.00073385 0.00073313 0.00073267\n",
      " 0.00073254 0.00073134 0.00073048 0.00072626 0.00072583 0.00072582\n",
      " 0.00072123 0.00071736 0.00071543 0.00071399 0.00071396 0.00071301\n",
      " 0.00071236 0.00071202 0.00071025 0.00070964 0.00070934 0.00070916\n",
      " 0.00070835 0.00070823 0.00070495 0.00070113 0.00069982 0.00069907\n",
      " 0.00069859 0.00069789 0.00069758 0.0006968  0.00069651 0.00069614\n",
      " 0.00069586 0.00069517 0.00069411 0.00069328 0.00069273 0.00069209\n",
      " 0.00069156 0.00069146 0.00069116 0.00069044 0.00068669 0.00068636\n",
      " 0.0006859  0.00068532 0.00068364 0.00068344 0.00068323 0.00068301\n",
      " 0.00068281 0.00068277 0.00068233 0.00068196 0.0006802  0.0006796\n",
      " 0.00067762 0.00067689 0.00067561 0.00067551 0.00067392 0.00067344\n",
      " 0.0006734  0.00067258 0.00067153 0.00067076]\n",
      "Top 100的点: [2730 7102 1010  368 1907 7453 4583 7420 1847 5369 3164 7446 3947 2794\n",
      " 3215 5346 7223  630 4417 4955 3208 2902 5671 5833 5553 8096 3204  758\n",
      " 6301 5769 8194 4957 8060 7938 5584 6568 1430 7250 3185 2737 3751  150\n",
      " 5099 2944 7872 2639 5074 1034  229 6648 4222 7406 2464 3578  930 6777\n",
      " 2484 4944 1197 3221 2041 7579 6787 6530 8112 6005 6190 5655  251 3951\n",
      " 8018  233 2589 5996  482  972 7499 7442 1173 2369 6315 5129 7784 5998\n",
      " 4692 4255 6692 4832 5275 5376 2232 6928  260 1677 6847 6883 7702 1798\n",
      " 4681 2664]\n"
     ]
    }
   ],
   "source": [
    "print(sum(scores))\n",
    "# 只取最大的前100个\n",
    "sorted_indices = np.argsort(scores)[::-1][:100]\n",
    "sorted_scores = scores[sorted_indices]\n",
    "print('Top 100:', sorted_scores)\n",
    "print('Top 100的点:', sorted_indices+1)  # 点的序号从1开始"
   ]
  },
  {
   "cell_type": "code",
   "execution_count": 35,
   "metadata": {},
   "outputs": [],
   "source": [
    "with open('result_basic.txt', 'w') as file:\n",
    "    # 遍历列表的索引和值\n",
    "    for i in range(len(sorted_indices)):\n",
    "        # 写入格式化的字符串到文件\n",
    "        file.write(str(sorted_indices[i]+1) + ' ' + str(sorted_scores[i]) + '\\n')"
   ]
  },
  {
   "cell_type": "markdown",
   "metadata": {},
   "source": [
    "## 稀疏矩阵优化"
   ]
  },
  {
   "cell_type": "code",
   "execution_count": 29,
   "metadata": {},
   "outputs": [],
   "source": [
    "# 初始化稀疏矩阵\n",
    "def get_sparse_matrix(G, node_num):\n",
    "    sparse_matrix = [[] for _ in range(node_num)]\n",
    "    for edge in G:\n",
    "        sparse_matrix[edge[0]-1].append(edge[1]-1)  # 出度0->1\n",
    "    return sparse_matrix\n",
    "\n",
    "def power_interation_sparse(sparse_matrix, beta, node_num):\n",
    "    # 用 1/node_num 初始化分数 \n",
    "    scores = np.ones((node_num))/node_num  # 1/N\n",
    "    e = node_num  # 两次迭代之间的误差\n",
    "    interation_num = 0  # 迭代次数\n",
    "    while e > 1e-6:\n",
    "        new_scores = (1-beta)*np.ones((node_num))/node_num\n",
    "        for i in range(node_num):\n",
    "            # 如果是dead-end\n",
    "            if len(sparse_matrix[i]) == 0:  # 没有出度，renormalize？\n",
    "                new_scores += beta*scores[i]/node_num\n",
    "                continue\n",
    "            for j in sparse_matrix[i]:  # i->j\n",
    "                new_scores[j] += beta*scores[i]/len(sparse_matrix[i])\n",
    "        e = sum(abs(new_scores-scores))\n",
    "        scores = np.copy(new_scores)\n",
    "        interation_num += 1\n",
    "    return scores, interation_num\n",
    "\n",
    "def power_interation_sparse_book(sparse_matrix, beta, node_num):\n",
    "    # 用 1/node_num 初始化分数 \n",
    "    scores = np.ones((node_num))/node_num  # 1/N\n",
    "    e = node_num  # 两次迭代之间的误差\n",
    "    interation_num = 0  # 迭代次数\n",
    "    while e > 1e-6:\n",
    "        new_scores = np.zeros((node_num))\n",
    "        for i in range(node_num):\n",
    "            for j in sparse_matrix[i]:  # i->j\n",
    "                new_scores[j] += beta*scores[i]/len(sparse_matrix[i])\n",
    "        # re-insert the leaked PageRank\n",
    "        new_scores += (1-sum(new_scores))/node_num\n",
    "        e = sum(abs(new_scores-scores))\n",
    "        scores = np.copy(new_scores)\n",
    "        interation_num += 1\n",
    "    return scores, interation_num"
   ]
  },
  {
   "cell_type": "code",
   "execution_count": 30,
   "metadata": {},
   "outputs": [
    {
     "name": "stdout",
     "output_type": "stream",
     "text": [
      "迭代次数: 53\n"
     ]
    }
   ],
   "source": [
    "beta = 0.85\n",
    "sparse_matrix = get_sparse_matrix(G, node_num)\n",
    "#scores , interation_num = power_interation_sparse(get_sparse_matrix(G, node_num), beta, node_num)\n",
    "scores , interation_num = power_interation_sparse_book(get_sparse_matrix(G, node_num), beta, node_num)\n",
    "\n",
    "print('迭代次数:', interation_num)"
   ]
  },
  {
   "cell_type": "code",
   "execution_count": 31,
   "metadata": {},
   "outputs": [
    {
     "name": "stdout",
     "output_type": "stream",
     "text": [
      "0.9999999999999969\n",
      "Top 100: [0.00087185 0.00085453 0.00084961 0.0008359  0.00083059 0.00082064\n",
      " 0.00081788 0.00081033 0.00080999 0.000806   0.00080509 0.00080316\n",
      " 0.00080222 0.00079232 0.00078217 0.0007812  0.00077737 0.00077438\n",
      " 0.00076882 0.00076079 0.00075903 0.00075754 0.00075585 0.00075166\n",
      " 0.00074796 0.0007474  0.00074577 0.00074494 0.00074458 0.00074116\n",
      " 0.0007401  0.00073804 0.00073637 0.00073385 0.00073313 0.00073267\n",
      " 0.00073254 0.00073134 0.00073048 0.00072626 0.00072583 0.00072582\n",
      " 0.00072123 0.00071736 0.00071543 0.00071399 0.00071396 0.00071301\n",
      " 0.00071236 0.00071202 0.00071025 0.00070964 0.00070934 0.00070916\n",
      " 0.00070835 0.00070823 0.00070495 0.00070113 0.00069982 0.00069907\n",
      " 0.00069859 0.00069789 0.00069758 0.0006968  0.00069651 0.00069614\n",
      " 0.00069586 0.00069517 0.00069411 0.00069328 0.00069273 0.00069209\n",
      " 0.00069156 0.00069146 0.00069116 0.00069044 0.00068669 0.00068636\n",
      " 0.0006859  0.00068532 0.00068364 0.00068344 0.00068323 0.00068301\n",
      " 0.00068281 0.00068277 0.00068233 0.00068196 0.0006802  0.0006796\n",
      " 0.00067762 0.00067689 0.00067561 0.00067551 0.00067392 0.00067344\n",
      " 0.0006734  0.00067258 0.00067153 0.00067076]\n",
      "Top 100的点: [2730 7102 1010  368 1907 7453 4583 7420 1847 5369 3164 7446 3947 2794\n",
      " 3215 5346 7223  630 4417 4955 3208 2902 5671 5833 5553 8096 3204  758\n",
      " 6301 5769 8194 4957 8060 7938 5584 6568 1430 7250 3185 2737 3751  150\n",
      " 5099 2944 7872 2639 5074 1034  229 6648 4222 7406 2464 3578  930 6777\n",
      " 2484 4944 1197 3221 2041 7579 6787 6530 8112 6005 6190 5655  251 3951\n",
      " 8018  233 2589 5996  482  972 7499 7442 1173 2369 6315 5129 7784 5998\n",
      " 4692 4255 6692 4832 5275 5376 2232 6928  260 1677 6847 6883 7702 1798\n",
      " 4681 2664]\n"
     ]
    }
   ],
   "source": [
    "print(sum(scores))\n",
    "# 只取最大的前100个\n",
    "sorted_indices = np.argsort(scores)[::-1][:100]\n",
    "sorted_scores = scores[sorted_indices]\n",
    "print('Top 100:', sorted_scores)\n",
    "print('Top 100的点:', sorted_indices+1)  # 点的序号从1开始"
   ]
  },
  {
   "cell_type": "code",
   "execution_count": 32,
   "metadata": {},
   "outputs": [],
   "source": [
    "with open('result_sparse.txt', 'w') as file:\n",
    "    # 遍历列表的索引和值\n",
    "    for i in range(len(sorted_indices)):\n",
    "        # 写入格式化的字符串到文件\n",
    "        file.write(str(sorted_indices[i]+1) + ' ' + str(sorted_scores[i]) + '\\n')"
   ]
  },
  {
   "cell_type": "markdown",
   "metadata": {},
   "source": [
    "# 分块优化"
   ]
  },
  {
   "cell_type": "code",
   "execution_count": null,
   "metadata": {},
   "outputs": [],
   "source": [
    "# 初始化稀疏矩阵\n",
    "sparse_matrix = [[] for _ in range(node_num)]\n",
    "\n",
    "for edge in G:\n",
    "    sparse_matrix[edge[0]-1].append(edge[1]-1)\n",
    "\n",
    "# 用 1/node_num 初始化分数 \n",
    "scores=np.ones((node_num))/node_num\n",
    "\n",
    "e=1 # 两次迭代之间的误差\n",
    "\n",
    "block_size=2000 # 每次迭代的块大小\n",
    "\n",
    "block_num=node_num//block_size\n",
    "\n",
    "remainder=node_num%block_size\n",
    "\n",
    "\n",
    "\n",
    "new_scores=np.zeros((node_num))\n",
    "\n",
    "while e>1e-5:\n",
    "    # 每次处理一块\n",
    "    e=0\n",
    "    for i in range(block_num):\n",
    "        # 初始化该块\n",
    "        new_scores[i*block_size:(i+1)*block_size]=(1-beta)/node_num\n",
    "        # 遍历稀疏矩阵\n",
    "        for j in range(node_num):\n",
    "            # 遇到dead-end\n",
    "            if len(sparse_matrix[j])==0:\n",
    "                new_scores[i*block_size:(i+1)*block_size]+=beta*scores[j]/node_num\n",
    "                continue\n",
    "            \n",
    "            for m in sparse_matrix[j]:\n",
    "                if m>=i*block_size and m<(i+1)*block_size:\n",
    "                    new_scores[m]+=beta*scores[j]/len(sparse_matrix[j])\n",
    "        e+=sum(abs(new_scores[i*block_size:(i+1)*block_size]-scores[i*block_size:(i+1)*block_size]))\n",
    "    \n",
    "    \n",
    "    \n",
    "    # 处理剩余部分\n",
    "    new_scores[block_num*block_size:]=(1-beta)/node_num\n",
    "\n",
    "    for j in range(node_num):\n",
    "        if len(sparse_matrix[j])==0:\n",
    "            new_scores[block_num*block_size:]+=beta*scores[j]/node_num\n",
    "            continue\n",
    "        for m in sparse_matrix[j]:\n",
    "            if m>=block_num*block_size:\n",
    "                new_scores[m]+=beta*scores[j]/len(sparse_matrix[j])\n",
    "    e+=sum(abs(new_scores[block_num*block_size:]-scores[block_num*block_size:]))\n",
    "    \n",
    "    scores=np.copy(new_scores)\n",
    "\n",
    "\n",
    "print(scores)"
   ]
  },
  {
   "cell_type": "code",
   "execution_count": null,
   "metadata": {},
   "outputs": [],
   "source": [
    "print(sum(scores))\n",
    "print(node_num)\n",
    "print(sum(scores))\n",
    "sorted_indices = (np.argsort(scores)+1)[::-1]\n",
    "sorted_scores = (np.sort(scores))[::-1]\n",
    "print('PageRank值从小到大排序：',sorted_indices)\n",
    "print('PageRank值从小到大排序：',sorted_scores)"
   ]
  },
  {
   "cell_type": "code",
   "execution_count": null,
   "metadata": {},
   "outputs": [],
   "source": [
    "ls=np.zeros(10)\n",
    "ls[2:4]+=2\n",
    "print(ls)"
   ]
  },
  {
   "cell_type": "markdown",
   "metadata": {},
   "source": [
    "# Block-Stripe优化"
   ]
  },
  {
   "cell_type": "code",
   "execution_count": null,
   "metadata": {},
   "outputs": [],
   "source": [
    "block_size=2000 # 每次迭代的块大小\n",
    "\n",
    "block_num=node_num//block_size\n",
    "\n",
    "remainder=node_num%block_size\n",
    "\n",
    "if remainder!=0:\n",
    "    block_num+=1\n",
    "\n",
    "stripes = [ {} for _ in range(block_num)]\n",
    "\n",
    "length=[0 for _ in range(node_num)]\n",
    "\n",
    "# 初始化稀疏矩阵\n",
    "for edge in G:\n",
    "    to_node=edge[1]-1\n",
    "    from_node=edge[0]-1\n",
    "    index=to_node//block_size\n",
    "    if from_node not in stripes[index]:\n",
    "        stripes[index][from_node]=[]\n",
    "    length[from_node]+=1\n",
    "\n",
    "# 处理dead-end\n",
    "for i in range(node_num):\n",
    "    is_de=True\n",
    "    for j in range(block_num):\n",
    "        if i in stripes[j]:\n",
    "            is_de=False\n",
    "            break\n",
    "    if is_de:\n",
    "        length[i]=node_num\n",
    "        for j in range(block_num):\n",
    "            stripes[j][i]=[j*block_size+m for m in range(block_size)]\n",
    "\n",
    "scores=np.ones((node_num))/node_num\n",
    "\n",
    "new_scores=np.zeros((node_num))\n",
    "e=1\n",
    "beta=0.8\n",
    "while e>1e-5:\n",
    "    e=0;\n",
    "    for i in range(block_num):\n",
    "        new_scores[i*block_size:(i+1)*block_size]=(1-beta)/node_num\n",
    "        for from_node in stripes[i]:\n",
    "            for to_node in stripes[i][from_node]:\n",
    "                new_scores[to_node]+=beta*scores[from_node]/length[from_node]\n",
    "        e+=sum(abs(new_scores[i*block_size:(i+1)*block_size]-scores[i*block_size:(i+1)*block_size]))\n",
    "    \n",
    "    # 处理剩余部分\n",
    "    if remainder!=0:\n",
    "        new_scores[block_num*block_size:]=(1-beta)/node_num\n",
    "        for from_node in stripes[block_num-1]:\n",
    "            for to_node in stripes[block_num-1][from_node]:\n",
    "                new_scores[to_node]+=beta*scores[from_node]/length[from_node]\n",
    "        e+=sum(abs(new_scores[block_num*block_size:]-scores[block_num*block_size:]))\n",
    "    scores=np.copy(new_scores)\n",
    "\n",
    "print(scores)"
   ]
  },
  {
   "cell_type": "code",
   "execution_count": null,
   "metadata": {},
   "outputs": [],
   "source": [
    "print(node_num)"
   ]
  }
 ],
 "metadata": {
  "kernelspec": {
   "display_name": "ML",
   "language": "python",
   "name": "python3"
  },
  "language_info": {
   "codemirror_mode": {
    "name": "ipython",
    "version": 3
   },
   "file_extension": ".py",
   "mimetype": "text/x-python",
   "name": "python",
   "nbconvert_exporter": "python",
   "pygments_lexer": "ipython3",
   "version": "3.7.9"
  }
 },
 "nbformat": 4,
 "nbformat_minor": 2
}
