{
 "cells": [
  {
   "cell_type": "markdown",
   "metadata": {},
   "source": [
    "# PageRank"
   ]
  },
  {
   "cell_type": "markdown",
   "metadata": {},
   "source": [
    "## 读取数据"
   ]
  },
  {
   "cell_type": "code",
   "execution_count": 1,
   "metadata": {},
   "outputs": [],
   "source": [
    "import numpy as np\n",
    "\n",
    "# 读数据\n",
    "def read_data():\n",
    "    file = open('Data.txt', 'r')\n",
    "    graph=[] \n",
    "    node_set=set()\n",
    "    for line in file:\n",
    "        data=line.split()\n",
    "        edge=(int(data[0]),int(data[1]))  # 以tuple存储两个点/边\n",
    "        node_set.add(edge[0])\n",
    "        node_set.add(edge[1])\n",
    "        graph.append(edge)\n",
    "\n",
    "    node_num=len(node_set) # 点的个数\n",
    "    return graph, node_num, node_set"
   ]
  },
  {
   "cell_type": "code",
   "execution_count": 21,
   "metadata": {},
   "outputs": [
    {
     "name": "stdout",
     "output_type": "stream",
     "text": [
      "点的个数: 8297\n",
      "点的序号连续\n"
     ]
    }
   ],
   "source": [
    "G, node_num, node_set = read_data()\n",
    "print('点的个数:',node_num)\n",
    "# 验证点的序号是否为 1-node_num\n",
    "for i in range(1,node_num+1):\n",
    "    if i not in node_set:\n",
    "        print('点的序号不连续')\n",
    "        break\n",
    "print('点的序号连续')"
   ]
  },
  {
   "cell_type": "markdown",
   "metadata": {},
   "source": [
    "## test"
   ]
  },
  {
   "cell_type": "code",
   "execution_count": 45,
   "metadata": {},
   "outputs": [
    {
     "name": "stdout",
     "output_type": "stream",
     "text": [
      "8297\n"
     ]
    }
   ],
   "source": [
    "import networkx as nx\n",
    "\n",
    "testG = nx.DiGraph()\n",
    "for edge in G:\n",
    "    testG.add_edge(edge[0], edge[1])\n",
    "print(testG.number_of_nodes())\n"
   ]
  },
  {
   "cell_type": "code",
   "execution_count": 52,
   "metadata": {},
   "outputs": [
    {
     "name": "stdout",
     "output_type": "stream",
     "text": [
      "Node: 2730, PageRank: 0.0008718545630996286\n",
      "Node: 7102, PageRank: 0.0008545292545357016\n",
      "Node: 1010, PageRank: 0.0008496113429084786\n",
      "Node: 368, PageRank: 0.0008358983067864309\n",
      "Node: 1907, PageRank: 0.000830589955903218\n",
      "Node: 7453, PageRank: 0.0008206419715353892\n",
      "Node: 4583, PageRank: 0.0008178783257292128\n",
      "Node: 7420, PageRank: 0.0008103312135438388\n",
      "Node: 1847, PageRank: 0.000809994456449296\n",
      "Node: 5369, PageRank: 0.000805995061333756\n",
      "Node: 3164, PageRank: 0.0008050887986405982\n",
      "Node: 7446, PageRank: 0.0008031585963961542\n",
      "Node: 3947, PageRank: 0.0008022195095139477\n",
      "Node: 2794, PageRank: 0.0007923189800154398\n",
      "Node: 3215, PageRank: 0.00078216836242779\n",
      "Node: 5346, PageRank: 0.000781197483794825\n",
      "Node: 7223, PageRank: 0.0007773650726513161\n",
      "Node: 630, PageRank: 0.0007743753319023608\n",
      "Node: 4417, PageRank: 0.0007688170169220024\n",
      "Node: 4955, PageRank: 0.0007607858766730214\n",
      "Node: 3208, PageRank: 0.0007590253502760098\n",
      "Node: 2902, PageRank: 0.0007575383869467485\n",
      "Node: 5671, PageRank: 0.0007558488555572986\n",
      "Node: 5833, PageRank: 0.0007516580158411171\n",
      "Node: 5553, PageRank: 0.0007479561502894065\n",
      "Node: 8096, PageRank: 0.0007474008875415337\n",
      "Node: 3204, PageRank: 0.0007457670936119724\n",
      "Node: 758, PageRank: 0.0007449383630388534\n",
      "Node: 6301, PageRank: 0.0007445792167496127\n",
      "Node: 5769, PageRank: 0.0007411585898386208\n",
      "Node: 8194, PageRank: 0.000740095362415737\n",
      "Node: 4957, PageRank: 0.0007380371834901982\n",
      "Node: 8060, PageRank: 0.0007363691818645338\n",
      "Node: 7938, PageRank: 0.0007338466986938334\n",
      "Node: 5584, PageRank: 0.0007331339221872655\n",
      "Node: 6568, PageRank: 0.0007326664269879923\n",
      "Node: 1430, PageRank: 0.0007325418876853145\n",
      "Node: 7250, PageRank: 0.0007313447385154984\n",
      "Node: 3185, PageRank: 0.0007304813678625763\n",
      "Node: 2737, PageRank: 0.000726261973181398\n",
      "Node: 3751, PageRank: 0.0007258308597765986\n",
      "Node: 150, PageRank: 0.000725821464011024\n",
      "Node: 5099, PageRank: 0.0007212308983763014\n",
      "Node: 2944, PageRank: 0.000717357046958444\n",
      "Node: 7872, PageRank: 0.000715427242573927\n",
      "Node: 2639, PageRank: 0.0007139869877863537\n",
      "Node: 5074, PageRank: 0.000713961746833246\n",
      "Node: 1034, PageRank: 0.0007130098504031768\n",
      "Node: 229, PageRank: 0.0007123641185555907\n",
      "Node: 6648, PageRank: 0.0007120179403828279\n",
      "Node: 4222, PageRank: 0.0007102453823449095\n",
      "Node: 7406, PageRank: 0.0007096423934466717\n",
      "Node: 2464, PageRank: 0.0007093390156037653\n",
      "Node: 3578, PageRank: 0.0007091575861339596\n",
      "Node: 930, PageRank: 0.0007083474398434014\n",
      "Node: 6777, PageRank: 0.0007082342158119696\n",
      "Node: 2484, PageRank: 0.0007049481143344151\n",
      "Node: 4944, PageRank: 0.000701125334316522\n",
      "Node: 1197, PageRank: 0.0006998242901036405\n",
      "Node: 3221, PageRank: 0.0006990673701724048\n",
      "Node: 2041, PageRank: 0.0006985935303869437\n",
      "Node: 7579, PageRank: 0.0006978868941282528\n",
      "Node: 6787, PageRank: 0.0006975761442123542\n",
      "Node: 6530, PageRank: 0.0006968024701797058\n",
      "Node: 8112, PageRank: 0.0006965100731270212\n",
      "Node: 6005, PageRank: 0.0006961397327187772\n",
      "Node: 6190, PageRank: 0.0006958614762307721\n",
      "Node: 5655, PageRank: 0.0006951671709524314\n",
      "Node: 251, PageRank: 0.0006941124877801503\n",
      "Node: 3951, PageRank: 0.0006932798130930159\n",
      "Node: 8018, PageRank: 0.0006927271931226247\n",
      "Node: 233, PageRank: 0.00069208610710497\n",
      "Node: 2589, PageRank: 0.0006915631834007351\n",
      "Node: 5996, PageRank: 0.0006914617856807305\n",
      "Node: 482, PageRank: 0.0006911631589431088\n",
      "Node: 972, PageRank: 0.0006904357012121751\n",
      "Node: 7499, PageRank: 0.0006866851847922221\n",
      "Node: 7442, PageRank: 0.0006863637248562611\n",
      "Node: 1173, PageRank: 0.0006859023854437658\n",
      "Node: 2369, PageRank: 0.0006853152058042421\n",
      "Node: 6315, PageRank: 0.000683640427456139\n",
      "Node: 5129, PageRank: 0.0006834405678545471\n",
      "Node: 7784, PageRank: 0.0006832304269747549\n",
      "Node: 5998, PageRank: 0.0006830118777799447\n",
      "Node: 4692, PageRank: 0.0006828063331546914\n",
      "Node: 4255, PageRank: 0.000682770017609933\n",
      "Node: 6692, PageRank: 0.0006823308966253881\n",
      "Node: 4832, PageRank: 0.0006819550754772085\n",
      "Node: 5275, PageRank: 0.0006801978611428982\n",
      "Node: 5376, PageRank: 0.0006795968984963984\n",
      "Node: 2232, PageRank: 0.0006776237395684911\n",
      "Node: 6928, PageRank: 0.0006768865321328326\n",
      "Node: 260, PageRank: 0.0006756126352501886\n",
      "Node: 1677, PageRank: 0.0006755108477494222\n",
      "Node: 6847, PageRank: 0.0006739222830835701\n",
      "Node: 6883, PageRank: 0.0006734408305387697\n",
      "Node: 7702, PageRank: 0.0006734022504578669\n",
      "Node: 1798, PageRank: 0.0006725762409688365\n",
      "Node: 4681, PageRank: 0.0006715315673949069\n",
      "Node: 2664, PageRank: 0.000670757550325981\n",
      "所有节点pagerank值之和: 1.0000000000000002\n"
     ]
    }
   ],
   "source": [
    "pr = nx.pagerank(testG, alpha=0.85, tol=1e-6/len(testG))\n",
    "# 对 pagerank 值进行排序\n",
    "sorted_pr = sorted(pr.items(), key=lambda x: x[1], reverse=True)\n",
    "# 打印前100个节点\n",
    "for node, pr_value in sorted_pr[:100]:\n",
    "    print(f\"Node: {node}, PageRank: {pr_value}\")\n",
    "# 计算所有节点pagerank值之和\n",
    "pr_sum = sum(pr.values())\n",
    "print(f\"所有节点pagerank值之和: {pr_sum}\")\n"
   ]
  },
  {
   "cell_type": "markdown",
   "metadata": {},
   "source": [
    "## 基础版本"
   ]
  },
  {
   "cell_type": "code",
   "execution_count": 56,
   "metadata": {},
   "outputs": [],
   "source": [
    "# 初始化邻接矩阵\n",
    "def get_stochastic_matrix(G, node_num):\n",
    "\tmatrix = np.zeros((node_num,node_num))\n",
    "\t# 统计邻接矩阵\n",
    "\tfor edge in G:\n",
    "\t\tmatrix[edge[1]-1][edge[0]-1] = 1  # 入度0->1\n",
    "\t# 计算\n",
    "\tfor j in range(node_num):\n",
    "\t\tsum_of_col = sum(matrix[:,j])  # 出度之和(d)\n",
    "\t\t# 如果发现dead-end，将其转为随机跳转\n",
    "\t\tif sum_of_col == 0:\n",
    "\t\t\tmatrix[:,j] = 1/node_num\n",
    "\t\t\tcontinue\n",
    "\t\tfor i in range(node_num):  # 1/d\n",
    "\t\t\tmatrix[i,j] /= sum_of_col\n",
    "\treturn matrix\n",
    "\n",
    "# 迭代\n",
    "def power_interation(matrix, beta, node_num):\n",
    "\t# 用 1/node_num 初始化rank vector\n",
    "\tscores = np.ones((node_num))/node_num\n",
    "\tnew_scores = np.zeros((node_num))\n",
    "\tinteration_num = 0  # 迭代次数\n",
    "\te = node_num # 两次迭代之间的误差\n",
    "\twhile e > 1e-6:\n",
    "\t\tnew_scores = beta*np.dot(matrix,scores)+(1-beta)/node_num  # β随机游走\n",
    "\t\te = sum(abs(new_scores-scores))\n",
    "\t\tscores = np.copy(new_scores)\n",
    "\t\tinteration_num += 1\n",
    "\treturn scores, interation_num"
   ]
  },
  {
   "cell_type": "code",
   "execution_count": 57,
   "metadata": {},
   "outputs": [
    {
     "name": "stdout",
     "output_type": "stream",
     "text": [
      "PageRank: [5.39597744e-04 9.59161392e-05 1.12610782e-04 ... 9.50066677e-05\n",
      " 8.35763251e-05 7.36008357e-05]\n",
      "迭代次数: 53\n"
     ]
    }
   ],
   "source": [
    "beta = 0.85  # 按照链接跳转的概率\n",
    "matrix = get_stochastic_matrix(G, node_num)\n",
    "scores, interation_num = power_interation(matrix, beta, node_num)\n",
    "print('PageRank:', scores)\n",
    "print('迭代次数:', interation_num)"
   ]
  },
  {
   "cell_type": "code",
   "execution_count": 58,
   "metadata": {},
   "outputs": [
    {
     "name": "stdout",
     "output_type": "stream",
     "text": [
      "0.9999999999999979\n",
      "Top 100: [0.00087185 0.00085453 0.00084961 0.0008359  0.00083059 0.00082064\n",
      " 0.00081788 0.00081033 0.00080999 0.000806   0.00080509 0.00080316\n",
      " 0.00080222 0.00079232 0.00078217 0.0007812  0.00077737 0.00077438\n",
      " 0.00076882 0.00076079 0.00075903 0.00075754 0.00075585 0.00075166\n",
      " 0.00074796 0.0007474  0.00074577 0.00074494 0.00074458 0.00074116\n",
      " 0.0007401  0.00073804 0.00073637 0.00073385 0.00073313 0.00073267\n",
      " 0.00073254 0.00073134 0.00073048 0.00072626 0.00072583 0.00072582\n",
      " 0.00072123 0.00071736 0.00071543 0.00071399 0.00071396 0.00071301\n",
      " 0.00071236 0.00071202 0.00071025 0.00070964 0.00070934 0.00070916\n",
      " 0.00070835 0.00070823 0.00070495 0.00070113 0.00069982 0.00069907\n",
      " 0.00069859 0.00069789 0.00069758 0.0006968  0.00069651 0.00069614\n",
      " 0.00069586 0.00069517 0.00069411 0.00069328 0.00069273 0.00069209\n",
      " 0.00069156 0.00069146 0.00069116 0.00069044 0.00068669 0.00068636\n",
      " 0.0006859  0.00068532 0.00068364 0.00068344 0.00068323 0.00068301\n",
      " 0.00068281 0.00068277 0.00068233 0.00068196 0.0006802  0.0006796\n",
      " 0.00067762 0.00067689 0.00067561 0.00067551 0.00067392 0.00067344\n",
      " 0.0006734  0.00067258 0.00067153 0.00067076]\n",
      "Top 100的点: [2730 7102 1010  368 1907 7453 4583 7420 1847 5369 3164 7446 3947 2794\n",
      " 3215 5346 7223  630 4417 4955 3208 2902 5671 5833 5553 8096 3204  758\n",
      " 6301 5769 8194 4957 8060 7938 5584 6568 1430 7250 3185 2737 3751  150\n",
      " 5099 2944 7872 2639 5074 1034  229 6648 4222 7406 2464 3578  930 6777\n",
      " 2484 4944 1197 3221 2041 7579 6787 6530 8112 6005 6190 5655  251 3951\n",
      " 8018  233 2589 5996  482  972 7499 7442 1173 2369 6315 5129 7784 5998\n",
      " 4692 4255 6692 4832 5275 5376 2232 6928  260 1677 6847 6883 7702 1798\n",
      " 4681 2664]\n"
     ]
    }
   ],
   "source": [
    "print(sum(scores))\n",
    "# 只取最大的前100个\n",
    "sorted_indices = np.argsort(scores)[::-1][:100]\n",
    "sorted_scores = scores[sorted_indices]\n",
    "print('Top 100:', sorted_scores)\n",
    "print('Top 100的点:', sorted_indices+1)  # 点的序号从1开始"
   ]
  },
  {
   "cell_type": "code",
   "execution_count": 73,
   "metadata": {},
   "outputs": [],
   "source": [
    "def write_result(sorted_indices, sorted_scores, filename):\n",
    "    with open(filename, 'w') as file:\n",
    "        for i in range(len(sorted_indices)):\n",
    "            file.write(str(sorted_indices[i]+1) + ' ' + str(sorted_scores[i]) + '\\n')"
   ]
  },
  {
   "cell_type": "code",
   "execution_count": null,
   "metadata": {},
   "outputs": [],
   "source": [
    "write_result(sorted_indices, sorted_scores, 'result.txt')"
   ]
  },
  {
   "cell_type": "markdown",
   "metadata": {},
   "source": [
    "## 稀疏矩阵优化"
   ]
  },
  {
   "cell_type": "code",
   "execution_count": 60,
   "metadata": {},
   "outputs": [],
   "source": [
    "# 初始化稀疏矩阵\n",
    "def get_sparse_matrix(G, node_num):\n",
    "    sparse_matrix = [[] for _ in range(node_num)]\n",
    "    for edge in G:\n",
    "        sparse_matrix[edge[0]-1].append(edge[1]-1)  # 出度0->1\n",
    "    return sparse_matrix\n",
    "\n",
    "def power_interation_sparse(sparse_matrix, beta, node_num):\n",
    "    # 用 1/node_num 初始化分数 \n",
    "    scores = np.ones((node_num))/node_num  # 1/N\n",
    "    e = node_num  # 两次迭代之间的误差\n",
    "    interation_num = 0  # 迭代次数\n",
    "    while e > 1e-6:\n",
    "        new_scores = (1-beta)*np.ones((node_num))/node_num\n",
    "        # 挨个读入稀疏矩阵\n",
    "        for i in range(node_num):\n",
    "            # 如果是dead-end\n",
    "            if len(sparse_matrix[i]) == 0:  # 没有出度，为所有节点分配\n",
    "                new_scores += beta*scores[i]/node_num  # 因为稀疏矩阵，所以在这里处理\n",
    "                continue\n",
    "            for j in sparse_matrix[i]:  # i->j\n",
    "                new_scores[j] += beta*scores[i]/len(sparse_matrix[i])\n",
    "        e = sum(abs(new_scores-scores))\n",
    "        scores = np.copy(new_scores)\n",
    "        interation_num += 1\n",
    "    return scores, interation_num\n",
    "\n",
    "def power_interation_sparse_book(sparse_matrix, beta, node_num):\n",
    "    # 用 1/node_num 初始化分数 \n",
    "    scores = np.ones((node_num))/node_num  # 1/N\n",
    "    e = node_num  # 两次迭代之间的误差\n",
    "    interation_num = 0  # 迭代次数\n",
    "    while e > 1e-6:\n",
    "        new_scores = np.zeros((node_num))\n",
    "        for i in range(node_num):\n",
    "            for j in sparse_matrix[i]:  # i->j\n",
    "                new_scores[j] += beta*scores[i]/len(sparse_matrix[i])\n",
    "        # re-insert the leaked PageRank\n",
    "        new_scores += (1-sum(new_scores))/node_num\n",
    "        e = sum(abs(new_scores-scores))\n",
    "        scores = np.copy(new_scores)\n",
    "        interation_num += 1\n",
    "    return scores, interation_num"
   ]
  },
  {
   "cell_type": "code",
   "execution_count": 64,
   "metadata": {},
   "outputs": [
    {
     "name": "stdout",
     "output_type": "stream",
     "text": [
      "迭代次数: 53\n"
     ]
    }
   ],
   "source": [
    "beta = 0.85\n",
    "sparse_matrix = get_sparse_matrix(G, node_num)\n",
    "scores , interation_num = power_interation_sparse(get_sparse_matrix(G, node_num), beta, node_num)\n",
    "#scores , interation_num = power_interation_sparse_book(get_sparse_matrix(G, node_num), beta, node_num)\n",
    "\n",
    "print('迭代次数:', interation_num)"
   ]
  },
  {
   "cell_type": "code",
   "execution_count": 65,
   "metadata": {},
   "outputs": [
    {
     "name": "stdout",
     "output_type": "stream",
     "text": [
      "0.9999999999999997\n",
      "Top 100: [0.00087185 0.00085453 0.00084961 0.0008359  0.00083059 0.00082064\n",
      " 0.00081788 0.00081033 0.00080999 0.000806   0.00080509 0.00080316\n",
      " 0.00080222 0.00079232 0.00078217 0.0007812  0.00077737 0.00077438\n",
      " 0.00076882 0.00076079 0.00075903 0.00075754 0.00075585 0.00075166\n",
      " 0.00074796 0.0007474  0.00074577 0.00074494 0.00074458 0.00074116\n",
      " 0.0007401  0.00073804 0.00073637 0.00073385 0.00073313 0.00073267\n",
      " 0.00073254 0.00073134 0.00073048 0.00072626 0.00072583 0.00072582\n",
      " 0.00072123 0.00071736 0.00071543 0.00071399 0.00071396 0.00071301\n",
      " 0.00071236 0.00071202 0.00071025 0.00070964 0.00070934 0.00070916\n",
      " 0.00070835 0.00070823 0.00070495 0.00070113 0.00069982 0.00069907\n",
      " 0.00069859 0.00069789 0.00069758 0.0006968  0.00069651 0.00069614\n",
      " 0.00069586 0.00069517 0.00069411 0.00069328 0.00069273 0.00069209\n",
      " 0.00069156 0.00069146 0.00069116 0.00069044 0.00068669 0.00068636\n",
      " 0.0006859  0.00068532 0.00068364 0.00068344 0.00068323 0.00068301\n",
      " 0.00068281 0.00068277 0.00068233 0.00068196 0.0006802  0.0006796\n",
      " 0.00067762 0.00067689 0.00067561 0.00067551 0.00067392 0.00067344\n",
      " 0.0006734  0.00067258 0.00067153 0.00067076]\n",
      "Top 100的点: [2730 7102 1010  368 1907 7453 4583 7420 1847 5369 3164 7446 3947 2794\n",
      " 3215 5346 7223  630 4417 4955 3208 2902 5671 5833 5553 8096 3204  758\n",
      " 6301 5769 8194 4957 8060 7938 5584 6568 1430 7250 3185 2737 3751  150\n",
      " 5099 2944 7872 2639 5074 1034  229 6648 4222 7406 2464 3578  930 6777\n",
      " 2484 4944 1197 3221 2041 7579 6787 6530 8112 6005 6190 5655  251 3951\n",
      " 8018  233 2589 5996  482  972 7499 7442 1173 2369 6315 5129 7784 5998\n",
      " 4692 4255 6692 4832 5275 5376 2232 6928  260 1677 6847 6883 7702 1798\n",
      " 4681 2664]\n"
     ]
    }
   ],
   "source": [
    "print(sum(scores))\n",
    "# 只取最大的前100个\n",
    "sorted_indices = np.argsort(scores)[::-1][:100]\n",
    "sorted_scores = scores[sorted_indices]\n",
    "print('Top 100:', sorted_scores)\n",
    "print('Top 100的点:', sorted_indices+1)  # 点的序号从1开始"
   ]
  },
  {
   "cell_type": "code",
   "execution_count": 66,
   "metadata": {},
   "outputs": [],
   "source": [
    "write_result(sorted_indices, sorted_scores, 'result_sparse.txt')"
   ]
  },
  {
   "cell_type": "markdown",
   "metadata": {},
   "source": [
    "## 分块优化"
   ]
  },
  {
   "cell_type": "code",
   "execution_count": 69,
   "metadata": {},
   "outputs": [],
   "source": [
    "scores = np.ones((node_num))/node_num  # 存储在disk\n",
    "new_scores = np.zeros((node_num))  # 分块存储在ram\n",
    "\n",
    "def power_interation_block(sparse_matrix, beta, node_num, block_size):\n",
    "    global scores, new_scores\n",
    "    # 分块\n",
    "    block_num = node_num//block_size\n",
    "    e = 1  # 两次迭代之间的误差\n",
    "    while e > 1e-6:\n",
    "        e = 0\n",
    "        # 每次处理一块\n",
    "        for i in range(block_num):\n",
    "            # 读进一个块\n",
    "            new_scores[i*block_size:(i+1)*block_size] = (1-beta)/node_num\n",
    "            # scan M and r_old once for each block\n",
    "            for j in range(node_num):\n",
    "                # 遇到dead-end\n",
    "                if len(sparse_matrix[j]) == 0:\n",
    "                    new_scores[i*block_size:(i+1)*block_size] += beta*scores[j]/node_num\n",
    "                    continue\n",
    "                for m in sparse_matrix[j]:\n",
    "                    if m>=i*block_size and m<(i+1)*block_size:\n",
    "                        new_scores[m] += beta*scores[j]/len(sparse_matrix[j])\n",
    "            e += sum(abs(new_scores[i*block_size:(i+1)*block_size]-scores[i*block_size:(i+1)*block_size]))\n",
    "        # 处理剩余部分\n",
    "        new_scores[block_num*block_size:] = (1-beta)/node_num\n",
    "        for j in range(node_num):\n",
    "            if len(sparse_matrix[j]) == 0:\n",
    "                new_scores[block_num*block_size:] += beta*scores[j]/node_num\n",
    "                continue\n",
    "            for m in sparse_matrix[j]:\n",
    "                if m>=block_num*block_size:\n",
    "                    new_scores[m] += beta*scores[j]/len(sparse_matrix[j])\n",
    "        e += sum(abs(new_scores[block_num*block_size:]-scores[block_num*block_size:]))\n",
    "        scores = np.copy(new_scores)"
   ]
  },
  {
   "cell_type": "code",
   "execution_count": 70,
   "metadata": {},
   "outputs": [],
   "source": [
    "beta = 0.85\n",
    "block_size = 2000\n",
    "sparse_matrix = get_sparse_matrix(G, node_num)\n",
    "power_interation_block(sparse_matrix, beta, node_num, block_size)"
   ]
  },
  {
   "cell_type": "code",
   "execution_count": 71,
   "metadata": {},
   "outputs": [
    {
     "name": "stdout",
     "output_type": "stream",
     "text": [
      "0.9999999999999997\n",
      "Top 100: [0.00087185 0.00085453 0.00084961 0.0008359  0.00083059 0.00082064\n",
      " 0.00081788 0.00081033 0.00080999 0.000806   0.00080509 0.00080316\n",
      " 0.00080222 0.00079232 0.00078217 0.0007812  0.00077737 0.00077438\n",
      " 0.00076882 0.00076079 0.00075903 0.00075754 0.00075585 0.00075166\n",
      " 0.00074796 0.0007474  0.00074577 0.00074494 0.00074458 0.00074116\n",
      " 0.0007401  0.00073804 0.00073637 0.00073385 0.00073313 0.00073267\n",
      " 0.00073254 0.00073134 0.00073048 0.00072626 0.00072583 0.00072582\n",
      " 0.00072123 0.00071736 0.00071543 0.00071399 0.00071396 0.00071301\n",
      " 0.00071236 0.00071202 0.00071025 0.00070964 0.00070934 0.00070916\n",
      " 0.00070835 0.00070823 0.00070495 0.00070113 0.00069982 0.00069907\n",
      " 0.00069859 0.00069789 0.00069758 0.0006968  0.00069651 0.00069614\n",
      " 0.00069586 0.00069517 0.00069411 0.00069328 0.00069273 0.00069209\n",
      " 0.00069156 0.00069146 0.00069116 0.00069044 0.00068669 0.00068636\n",
      " 0.0006859  0.00068532 0.00068364 0.00068344 0.00068323 0.00068301\n",
      " 0.00068281 0.00068277 0.00068233 0.00068196 0.0006802  0.0006796\n",
      " 0.00067762 0.00067689 0.00067561 0.00067551 0.00067392 0.00067344\n",
      " 0.0006734  0.00067258 0.00067153 0.00067076]\n",
      "Top 100的点: [2730 7102 1010  368 1907 7453 4583 7420 1847 5369 3164 7446 3947 2794\n",
      " 3215 5346 7223  630 4417 4955 3208 2902 5671 5833 5553 8096 3204  758\n",
      " 6301 5769 8194 4957 8060 7938 5584 6568 1430 7250 3185 2737 3751  150\n",
      " 5099 2944 7872 2639 5074 1034  229 6648 4222 7406 2464 3578  930 6777\n",
      " 2484 4944 1197 3221 2041 7579 6787 6530 8112 6005 6190 5655  251 3951\n",
      " 8018  233 2589 5996  482  972 7499 7442 1173 2369 6315 5129 7784 5998\n",
      " 4692 4255 6692 4832 5275 5376 2232 6928  260 1677 6847 6883 7702 1798\n",
      " 4681 2664]\n"
     ]
    }
   ],
   "source": [
    "print(sum(scores))\n",
    "# 只取最大的前100个\n",
    "sorted_indices = np.argsort(scores)[::-1][:100]\n",
    "sorted_scores = scores[sorted_indices]\n",
    "print('Top 100:', sorted_scores)\n",
    "print('Top 100的点:', sorted_indices+1)  # 点的序号从1开始"
   ]
  },
  {
   "cell_type": "code",
   "execution_count": 74,
   "metadata": {},
   "outputs": [],
   "source": [
    "write_result(sorted_indices, sorted_scores, 'result_block.txt')"
   ]
  },
  {
   "cell_type": "markdown",
   "metadata": {},
   "source": [
    "## Block-Stripe优化"
   ]
  },
  {
   "cell_type": "code",
   "execution_count": 95,
   "metadata": {},
   "outputs": [],
   "source": [
    "def get_stripes(G, node_num, block_size):\n",
    "    block_num = node_num//block_size\n",
    "    remain = node_num%block_size\n",
    "    if remain != 0:  # +1是因为最后一个stripe也得存\n",
    "        block_num += 1\n",
    "\n",
    "    stripes = [ {} for _ in range(block_num)]  # [0,1,2,...,block_num-1]\n",
    "    length = [0 for _ in range(node_num)]\n",
    "\n",
    "    # 初始化稀疏矩阵\n",
    "    for edge in G:\n",
    "        to_node = edge[1]-1\n",
    "        from_node = edge[0]-1\n",
    "        index = to_node//block_size  # dest所在块的编号\n",
    "        if from_node not in stripes[index].keys():\n",
    "            # 将from_node加入stripes\n",
    "            stripes[index][from_node] = []\n",
    "        stripes[index][from_node].append(to_node)  # 将to_node加入stripes\n",
    "        length[from_node] += 1  # 记录每个节点的出度\n",
    "    return stripes, length\n",
    "\n",
    "def deal_dead_end(stripes, length, node_num, block_size):\n",
    "    block_num = node_num//block_size\n",
    "    remain = node_num%block_size\n",
    "    if remain != 0:\n",
    "        block_num += 1\n",
    "    for i in range(node_num):\n",
    "        # 没有出度则为dead-end\n",
    "        if length[i] == 0:\n",
    "            length[i] = node_num\n",
    "            for j in range(block_num):\n",
    "                stripes[j][i] = [k for k in range(j*block_size, min((j+1)*block_size, node_num))]\n",
    "    return stripes, length\n"
   ]
  },
  {
   "cell_type": "code",
   "execution_count": 96,
   "metadata": {},
   "outputs": [
    {
     "name": "stdout",
     "output_type": "stream",
     "text": [
      "[{0: [0, 1], 1: [0], 2: [1]}, {0: [3], 2: [3]}, {0: [4], 1: [4], 2: [4]}]\n",
      "[4, 2, 3, 0, 0]\n",
      "[{0: [0, 1], 1: [0], 2: [1], 3: [0, 1], 4: [0, 1]}, {0: [3], 2: [3], 3: [2, 3], 4: [2, 3]}, {0: [4], 1: [4], 2: [4], 3: [4], 4: [4]}]\n",
      "[4, 2, 3, 5, 5]\n"
     ]
    }
   ],
   "source": [
    "# test\n",
    "tempG = [(0,0), (0,1), (0,3), (0,4), (1,0), (1,4), (2,1), (2,3), (2,4)]\n",
    "tempG = [(i+1,j+1) for i,j in tempG]\n",
    "temp_node_num = 5\n",
    "block_size = 2\n",
    "stripes, length = get_stripes(tempG, temp_node_num, block_size)\n",
    "print(stripes)\n",
    "print(length)\n",
    "stripes, length = deal_dead_end(stripes, length, temp_node_num, block_size)\n",
    "print(stripes)\n",
    "print(length)"
   ]
  },
  {
   "cell_type": "code",
   "execution_count": 99,
   "metadata": {},
   "outputs": [],
   "source": [
    "scores = np.ones((node_num))/node_num  # 存储在disk\n",
    "new_scores = np.zeros((node_num))  # 分块存储在ram\n",
    "\n",
    "def power_interation_block_stripe(stripes, length, node_num, block_size, beta):\n",
    "    global scores, new_scores    \n",
    "    block_num = node_num//block_size\n",
    "    remain = node_num%block_size\n",
    "    if remain != 0:  # +1是因为最后一个stripe也得存\n",
    "        block_num += 1\n",
    "    end_block_index = block_num-1\n",
    "        \n",
    "    e = 1  # 两次迭代之间的误差\n",
    "    interation_num = 0\n",
    "    while e > 1e-6:\n",
    "        e = 0\n",
    "        # 每次处理一块\n",
    "        for i in range(end_block_index):\n",
    "            new_scores[i*block_size:(i+1)*block_size] = (1-beta)/node_num\n",
    "            for from_node in stripes[i]:  # 遍历当前块下的所有源节点(stripe)\n",
    "                for to_node in stripes[i][from_node]:  # 对应的目标节点\n",
    "                    new_scores[to_node] += beta*scores[from_node]/length[from_node]\n",
    "            e += sum(abs(new_scores[i*block_size:(i+1)*block_size]-scores[i*block_size:(i+1)*block_size]))\n",
    "        \n",
    "        # 处理剩余部分\n",
    "        if remain != 0:\n",
    "            new_scores[end_block_index*block_size:] = (1-beta)/node_num\n",
    "            for from_node in stripes[end_block_index]:\n",
    "                for to_node in stripes[end_block_index][from_node]:\n",
    "                    new_scores[to_node] += beta*scores[from_node]/length[from_node]\n",
    "            e+=sum(abs(new_scores[end_block_index*block_size:]-scores[end_block_index*block_size:]))\n",
    "        scores=np.copy(new_scores)\n",
    "        interation_num += 1\n",
    "        print('interation_num:', interation_num, ' e:', e)"
   ]
  },
  {
   "cell_type": "code",
   "execution_count": 100,
   "metadata": {},
   "outputs": [
    {
     "name": "stdout",
     "output_type": "stream",
     "text": [
      "finish deal dead end\n",
      "interation_num: 1  e: 0.16516579676568333\n",
      "interation_num: 2  e: 0.07766412986971014\n",
      "interation_num: 3  e: 0.06169222893625692\n",
      "interation_num: 4  e: 0.04926045708557971\n",
      "interation_num: 5  e: 0.0393357822055534\n",
      "interation_num: 6  e: 0.03141064081512026\n",
      "interation_num: 7  e: 0.02508227253017668\n",
      "interation_num: 8  e: 0.020028895333592485\n",
      "interation_num: 9  e: 0.015993633870237663\n",
      "interation_num: 10  e: 0.012771364572275706\n",
      "interation_num: 11  e: 0.010198292305589085\n",
      "interation_num: 12  e: 0.008143622033207665\n",
      "interation_num: 13  e: 0.0065029102749777894\n",
      "interation_num: 14  e: 0.005192755983911705\n",
      "interation_num: 15  e: 0.004146561088528543\n",
      "interation_num: 16  e: 0.003311145163410164\n",
      "interation_num: 17  e: 0.002644042149409765\n",
      "interation_num: 18  e: 0.002111341708936572\n",
      "interation_num: 19  e: 0.0016859654876882778\n",
      "interation_num: 20  e: 0.0013462906613582624\n",
      "interation_num: 21  e: 0.0010750507991398347\n",
      "interation_num: 22  e: 0.0008584581724443042\n",
      "interation_num: 23  e: 0.000685502893843547\n",
      "interation_num: 24  e: 0.0005473932598590494\n",
      "interation_num: 25  e: 0.0004371088490338059\n",
      "interation_num: 26  e: 0.0003490436582177894\n",
      "interation_num: 27  e: 0.0002787211368775784\n",
      "interation_num: 28  e: 0.0002225666340374647\n",
      "interation_num: 29  e: 0.00017772569078497113\n",
      "interation_num: 30  e: 0.00014191894171755636\n",
      "interation_num: 31  e: 0.00011332624973766221\n",
      "interation_num: 32  e: 9.049418438412958e-05\n",
      "interation_num: 33  e: 7.22621407317531e-05\n",
      "interation_num: 34  e: 5.7703343248079096e-05\n",
      "interation_num: 35  e: 4.607773569903537e-05\n",
      "interation_num: 36  e: 3.679436247229697e-05\n",
      "interation_num: 37  e: 2.9381328946692837e-05\n",
      "interation_num: 38  e: 2.3461814055377196e-05\n",
      "interation_num: 39  e: 1.8734915630546068e-05\n",
      "interation_num: 40  e: 1.4960354844437761e-05\n",
      "interation_num: 41  e: 1.1946262344443746e-05\n",
      "interation_num: 42  e: 9.5394250664706e-06\n",
      "interation_num: 43  e: 7.617498087477525e-06\n",
      "interation_num: 44  e: 6.082785569028644e-06\n",
      "interation_num: 45  e: 4.857274638027439e-06\n",
      "interation_num: 46  e: 3.8786698395856735e-06\n",
      "interation_num: 47  e: 3.0972265008767983e-06\n",
      "interation_num: 48  e: 2.4732221045787014e-06\n",
      "interation_num: 49  e: 1.9749371194462974e-06\n",
      "interation_num: 50  e: 1.5770426018993865e-06\n",
      "interation_num: 51  e: 1.259312684158123e-06\n",
      "interation_num: 52  e: 1.0055964465900425e-06\n",
      "interation_num: 53  e: 8.029969298803941e-07\n"
     ]
    }
   ],
   "source": [
    "block_size = 2000\n",
    "beta = 0.85\n",
    "stripes, length = get_stripes(G, node_num, block_size)\n",
    "stripes, length = deal_dead_end(stripes, length, node_num, block_size)\n",
    "print('finish deal dead end')\n",
    "power_interation_block_stripe(stripes, length, node_num, block_size, beta)"
   ]
  },
  {
   "cell_type": "code",
   "execution_count": 101,
   "metadata": {},
   "outputs": [
    {
     "name": "stdout",
     "output_type": "stream",
     "text": [
      "0.9999999999999988\n",
      "Top 100: [0.00087185 0.00085453 0.00084961 0.0008359  0.00083059 0.00082064\n",
      " 0.00081788 0.00081033 0.00080999 0.000806   0.00080509 0.00080316\n",
      " 0.00080222 0.00079232 0.00078217 0.0007812  0.00077737 0.00077438\n",
      " 0.00076882 0.00076079 0.00075903 0.00075754 0.00075585 0.00075166\n",
      " 0.00074796 0.0007474  0.00074577 0.00074494 0.00074458 0.00074116\n",
      " 0.0007401  0.00073804 0.00073637 0.00073385 0.00073313 0.00073267\n",
      " 0.00073254 0.00073134 0.00073048 0.00072626 0.00072583 0.00072582\n",
      " 0.00072123 0.00071736 0.00071543 0.00071399 0.00071396 0.00071301\n",
      " 0.00071236 0.00071202 0.00071025 0.00070964 0.00070934 0.00070916\n",
      " 0.00070835 0.00070823 0.00070495 0.00070113 0.00069982 0.00069907\n",
      " 0.00069859 0.00069789 0.00069758 0.0006968  0.00069651 0.00069614\n",
      " 0.00069586 0.00069517 0.00069411 0.00069328 0.00069273 0.00069209\n",
      " 0.00069156 0.00069146 0.00069116 0.00069044 0.00068669 0.00068636\n",
      " 0.0006859  0.00068532 0.00068364 0.00068344 0.00068323 0.00068301\n",
      " 0.00068281 0.00068277 0.00068233 0.00068196 0.0006802  0.0006796\n",
      " 0.00067762 0.00067689 0.00067561 0.00067551 0.00067392 0.00067344\n",
      " 0.0006734  0.00067258 0.00067153 0.00067076]\n",
      "Top 100的点: [2730 7102 1010  368 1907 7453 4583 7420 1847 5369 3164 7446 3947 2794\n",
      " 3215 5346 7223  630 4417 4955 3208 2902 5671 5833 5553 8096 3204  758\n",
      " 6301 5769 8194 4957 8060 7938 5584 6568 1430 7250 3185 2737 3751  150\n",
      " 5099 2944 7872 2639 5074 1034  229 6648 4222 7406 2464 3578  930 6777\n",
      " 2484 4944 1197 3221 2041 7579 6787 6530 8112 6005 6190 5655  251 3951\n",
      " 8018  233 2589 5996  482  972 7499 7442 1173 2369 6315 5129 7784 5998\n",
      " 4692 4255 6692 4832 5275 5376 2232 6928  260 1677 6847 6883 7702 1798\n",
      " 4681 2664]\n"
     ]
    }
   ],
   "source": [
    "print(sum(scores))\n",
    "# 只取最大的前100个\n",
    "sorted_indices = np.argsort(scores)[::-1][:100]\n",
    "sorted_scores = scores[sorted_indices]\n",
    "print('Top 100:', sorted_scores)\n",
    "print('Top 100的点:', sorted_indices+1)  # 点的序号从1开始"
   ]
  },
  {
   "cell_type": "code",
   "execution_count": 102,
   "metadata": {},
   "outputs": [],
   "source": [
    "write_result(sorted_indices, sorted_scores, 'result_block_stripe.txt')"
   ]
  },
  {
   "cell_type": "code",
   "execution_count": 1,
   "metadata": {},
   "outputs": [
    {
     "ename": "TypeError",
     "evalue": "can only concatenate list (not \"int\") to list",
     "output_type": "error",
     "traceback": [
      "\u001b[1;31m---------------------------------------------------------------------------\u001b[0m",
      "\u001b[1;31mTypeError\u001b[0m                                 Traceback (most recent call last)",
      "Cell \u001b[1;32mIn[1], line 2\u001b[0m\n\u001b[0;32m      1\u001b[0m \u001b[38;5;28mlist\u001b[39m\u001b[38;5;241m=\u001b[39m[\u001b[38;5;241m0\u001b[39m,\u001b[38;5;241m1\u001b[39m,\u001b[38;5;241m2\u001b[39m,\u001b[38;5;241m3\u001b[39m]\n\u001b[1;32m----> 2\u001b[0m \u001b[38;5;28mprint\u001b[39m(\u001b[38;5;28;43mlist\u001b[39;49m\u001b[38;5;241;43m+\u001b[39;49m\u001b[38;5;241;43m1\u001b[39;49m)\n\u001b[0;32m      3\u001b[0m \u001b[38;5;28mprint\u001b[39m(\u001b[38;5;28mlist\u001b[39m)\n",
      "\u001b[1;31mTypeError\u001b[0m: can only concatenate list (not \"int\") to list"
     ]
    }
   ],
   "source": [
    "list=[0,1,2,3]\n",
    "list=np.array(list)\n",
    "print(list+1)\n",
    "print(list)"
   ]
  }
 ],
 "metadata": {
  "kernelspec": {
   "display_name": "ML",
   "language": "python",
   "name": "python3"
  },
  "language_info": {
   "codemirror_mode": {
    "name": "ipython",
    "version": 3
   },
   "file_extension": ".py",
   "mimetype": "text/x-python",
   "name": "python",
   "nbconvert_exporter": "python",
   "pygments_lexer": "ipython3",
   "version": "3.9.18"
  }
 },
 "nbformat": 4,
 "nbformat_minor": 2
}
