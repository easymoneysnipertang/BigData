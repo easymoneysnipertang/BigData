{
 "cells": [
  {
   "cell_type": "markdown",
   "metadata": {},
   "source": [
    "# 数据预处理\n",
    "将train.txt进行二八划分为训练集和验证集。"
   ]
  },
  {
   "cell_type": "code",
   "execution_count": 1,
   "metadata": {},
   "outputs": [],
   "source": [
    "import random\n",
    "file_path =\"data/train.txt\"\n",
    "\n",
    "user_list = []\n",
    "\n",
    "# 读取train.txt文件\n",
    "with open(file_path, \"r\") as f:\n",
    "    while True:\n",
    "        data=f.readline()\n",
    "        if not data:\n",
    "            break\n",
    "        data=data.split('|')\n",
    "\n",
    "        user_id,rate_nums= data[0],data[1]\n",
    "        user_rate={} # 保存用户的打分表\n",
    "        for i in range(int(rate_nums)):\n",
    "            rate=f.readline()\n",
    "            rate=rate.split()\n",
    "            user_rate[rate[0]]=float(rate[1])\n",
    "        \n",
    "        user_list.append(user_rate)\n",
    "\n",
    "\n",
    "# 对train集合进行二八划分，其中20%作为验证集，80%作为训练集，验证集和中的数据用来测试模型的准确性\n",
    "def split(train_set):\n",
    "    \"\"\"\n",
    "    对train集合进行二八划分\n",
    "    \n",
    "    Args:\n",
    "        train_set:训练集\n",
    "\n",
    "    Returns:\n",
    "        train_set:训练集\n",
    "        valid_set:测试集\n",
    "    \"\"\"\n",
    "    # 设置一个种子，保证每次运行的结果一致\n",
    "    random.seed(0)\n",
    "    valid_set={}\n",
    "    for user in range(len(train_set)):\n",
    "        test={}\n",
    "        for item in train_set[user].keys():\n",
    "            if random.random()<0.2:\n",
    "                test[item]=train_set[user][item]\n",
    "        for item in test.keys():\n",
    "            del train_set[user][item]\n",
    "        valid_set[user]=test\n",
    "\n",
    "    return train_set,valid_set\n",
    "# 将处理结果写入文件中，方便不同算法读取\n",
    "\n",
    "def write_to_file(file_path,data):\n",
    "    with open(file_path,\"w\") as f:\n",
    "        for user in range(len(data)):\n",
    "            f.write(str(user)+\"|\"+str(len(data[user]))+'\\n')\n",
    "            for item in data[user].keys():\n",
    "                f.write(str(item)+\" \"+str(data[user][item])+'\\n')\n",
    "\n",
    "train_set,valid_set=split(user_list)\n",
    "write_to_file(\"data/train_set.txt\",train_set)\n",
    "write_to_file(\"data/valid_set.txt\",valid_set)\n"
   ]
  }
 ],
 "metadata": {
  "kernelspec": {
   "display_name": "ML",
   "language": "python",
   "name": "python3"
  },
  "language_info": {
   "codemirror_mode": {
    "name": "ipython",
    "version": 3
   },
   "file_extension": ".py",
   "mimetype": "text/x-python",
   "name": "python",
   "nbconvert_exporter": "python",
   "pygments_lexer": "ipython3",
   "version": "3.9.18"
  }
 },
 "nbformat": 4,
 "nbformat_minor": 2
}
